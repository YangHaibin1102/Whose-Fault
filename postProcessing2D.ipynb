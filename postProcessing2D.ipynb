{
 "cells": [
  {
   "cell_type": "code",
   "execution_count": null,
   "metadata": {
    "collapsed": true
   },
   "outputs": [],
   "source": [
    "#cd ~/magnus/"
   ]
  },
  {
   "cell_type": "code",
   "execution_count": 1,
   "metadata": {},
   "outputs": [
    {
     "name": "stderr",
     "output_type": "stream",
     "text": [
      "/home/haibin/underworld/unsupported/scaling/__init__.py:13: UserWarning: \n",
      "\n",
      "    The scaling module is not supported.\n",
      "\n",
      "    It requires 'pint' as a dependency.\n",
      "\n",
      "    You can install pint by running:\n",
      "\n",
      "    'pip install pint' in a terminal\n",
      "\n",
      "    Questions should be addressed to romain.beucher@unimelb.edu.au \n",
      " \n",
      "  Questions should be addressed to romain.beucher@unimelb.edu.au \\n \"\"\"\n"
     ]
    }
   ],
   "source": [
    "###### outputPath = os.path.join(os.path.abspath(\".\"),\"test_fric/\")\n",
    "import underworld as uw\n",
    "import math\n",
    "from underworld import function as fn\n",
    "import glucifer\n",
    "import numpy as np\n",
    "import os\n",
    "import matplotlib.pyplot as plt\n",
    "from unsupported.LMR import *\n",
    "import unsupported.scaling as sca\n",
    "from unsupported.scaling import nonDimensionalize as nd\n",
    "from decimal import *\n",
    "import cv2\n",
    "\n",
    "uw.matplotlib_inline()\n",
    "# use low resolution if running in serial\n",
    "\n",
    "u = sca.UnitRegistry\n",
    "\n",
    "# Define scale criteria\n",
    "tempMin = 273.*u.degK \n",
    "tempMax = (1400.+ 273.)*u.degK\n",
    "bodyforce = 3300 * u.kilogram / u.metre**3 * 9.81 * u.meter / u.second**2\n",
    "#velocity = 1.*u.centimeter/u.year\n",
    "velocity = 1e-9*u.meter/u.second\n",
    "\n",
    "KL = 100e3*u.meter\n",
    "Kt = KL/velocity\n",
    "KT = tempMax \n",
    "KM = bodyforce * KL**2 * Kt**2\n",
    "K  = 1.*u.mole\n",
    "lengthScale = 100e3\n",
    "\n",
    "sca.scaling[\"[length]\"] = KL\n",
    "sca.scaling[\"[time]\"] = Kt\n",
    "sca.scaling[\"[mass]\"]= KM\n",
    "sca.scaling[\"[temperature]\"] = KT\n",
    "sca.scaling[\"[substance]\"] = K\n",
    "\n",
    "gravity = nd(9.81 * u.meter / u.second**2)\n",
    "R = nd(8.3144621 * u.joule / u.mole / u.degK)\n",
    "step=0\n",
    "\n",
    "outputPath = os.path.join(os.path.abspath(\".\"),\"landsliding_randtest/\")\n",
    "\n",
    "if uw.rank()==0:\n",
    "    if not os.path.exists(outputPath):\n",
    "        os.makedirs(outputPath)\n",
    "uw.barrier()\n",
    "\n",
    "fo = open(outputPath+\"dicMesh\"+str(step).zfill(4),'r')\n",
    "meshDic=eval(fo.read())\n",
    "\n",
    "'''\n",
    "mesh = uw.mesh.FeMesh_Cartesian( elementType = (\"Q1/dQ0\"),\n",
    "                                 elementRes  = meshDic['elements'], \n",
    "                                 minCoord    = meshDic['minCoord'], \n",
    "                                 maxCoord    = meshDic['maxCoord'],\n",
    "                                 ) \n",
    "'''\n",
    "xRes=meshDic['elements'][0]\n",
    "yRes=meshDic['elements'][1]\n",
    "dim  = 2  \n",
    "mesh = uw.mesh.FeMesh_Cartesian( elementType = ((\"Q1/dQ0\")), \n",
    "                                 elementRes  = ( xRes, yRes), \n",
    "                                 ) \n",
    "mesh.load(outputPath+\"mesh\"+str(step).zfill(4))\n",
    "\n",
    "minX = min(mesh.data[:,0])\n",
    "maxX = max(mesh.data[:,0])\n",
    "minY = min(mesh.data[:,1])\n",
    "maxY = max(mesh.data[:,1])\n",
    "\n",
    "mesh = uw.mesh.FeMesh_Cartesian( elementType = (\"Q1/dQ0\"),\n",
    "                                 elementRes  = (xRes, yRes), \n",
    "                                 minCoord    = (minX, minY), \n",
    "                                 maxCoord    = (maxX, maxY),\n",
    "                                 periodic    = [False, False]) \n",
    "\n"
   ]
  },
  {
   "cell_type": "code",
   "execution_count": 2,
   "metadata": {
    "collapsed": true
   },
   "outputs": [],
   "source": [
    "vis_factor = nd(1*u.pascal*u.second)\n",
    "vel_factor = nd(1*u.centimeter/u.year)\n",
    "stress_factor = nd(1*u.pascal)\n",
    "strainRate_factor = nd(1/u.second)\n",
    "temp_factor = nd(1*u.degK)"
   ]
  },
  {
   "cell_type": "code",
   "execution_count": null,
   "metadata": {
    "collapsed": true,
    "scrolled": true
   },
   "outputs": [],
   "source": [
    "def visPlot(step):\n",
    "    vis= uw.mesh.MeshVariable(mesh=mesh,nodeDofCount=1)\n",
    "    velField = uw.mesh.MeshVariable(mesh=mesh,nodeDofCount=2)\n",
    "\n",
    "\n",
    "    velField.load(outputPath+'velocityField'+str(step).zfill(4))\n",
    "    vis.load(outputPath+'meshViscosity'+str(step).zfill(4))\n",
    "\n",
    "    fo = open(outputPath+\"time\"+str(step).zfill(4),\"r\")\n",
    "    t = fo.read()\n",
    "    time_factor = nd(1*u.megayear)\n",
    "    time = float(t)/time_factor \n",
    "    time = Decimal(time).quantize(Decimal('1.000'))\n",
    "\n",
    "    vel = uw.mesh.MeshVariable(mesh=mesh,nodeDofCount=2)\n",
    "    vel.data[:,0]=1*velField.data[:,0]\n",
    "    vel.data[:,1]=1*velField.data[:,1]\n",
    "    fig = glucifer.Figure(title=\"Time=\"+str(time)+\"Myr\"+\"  \"+\"Viscosity\", figsize=(800,500),quality=3,\n",
    "                                    margin = 120, rulers = True, rulerticks= 5 )\n",
    "    surf=glucifer.objects.Surface( mesh, fn.math.log10(vis/vis_factor), valueRange=[20,24],colours=\"white blue grey\" ) \n",
    "    #surf=glucifer.objects.Surface( mesh.subMesh, fn.math.log10(pr/stress_factor),colours=\"red white blue\" ) \n",
    "    #fig.append(glucifer.objects.Mesh( mesh )) \n",
    "    #fig.append(glucifer.objects.Surface( mesh, fn.math.log10(strainRate), valueRange=[-17,-13],colours=\"blue white red\" ) )\n",
    "    fig.append(surf)\n",
    "\n",
    "    fig.append(glucifer.objects.VectorArrows( mesh, vel/vel_factor, scaling=5e-2,arrowHead =10,resolutionI=20, resolutionJ=21))\n",
    "    #fig.append(glucifer.objects.Surface(mesh, vel/vel_factor,colours=\"blue white red \") )\n",
    "    \n",
    "\n",
    "    fig.script('scale y 1')\n",
    "    surf.colourBar[\"align\"] = \"right\"\n",
    "    surf.colourBar[\"position\"] = 150\n",
    "    surf.colourBar[\"size\"] = [0.4,0.02]\n",
    "    surf.colourBar[\"tickvalues\"] = [18,19,20,21,22,23]\n",
    "    #fig.save('/home/haibin/Desktop/landslide/F4C2e6Vis24Point200/'+'Vis'+str(step).zfill(4)+'.png')\n",
    "    fig.show()"
   ]
  },
  {
   "cell_type": "code",
   "execution_count": null,
   "metadata": {
    "collapsed": true
   },
   "outputs": [],
   "source": [
    "visPlot(1)"
   ]
  },
  {
   "cell_type": "code",
   "execution_count": null,
   "metadata": {
    "collapsed": true
   },
   "outputs": [],
   "source": [
    "def prPlot(step):\n",
    "\n",
    "    pr = uw.mesh.MeshVariable( mesh=mesh.subMesh, nodeDofCount=1 )\n",
    "\n",
    "    pr.load(outputPath+'pressureField'+str(step).zfill(4))\n",
    "\n",
    "    fo = open(outputPath+\"time\"+str(step).zfill(4),\"r\")\n",
    "    t = fo.read()\n",
    "    time_factor = nd(1*u.megayear)\n",
    "    time = float(t)/time_factor \n",
    "    time = Decimal(time).quantize(Decimal('1.000'))\n",
    "\n",
    "    fig = glucifer.Figure(title=\"Time=\"+str(time)+\"Myr\"+\"  \"+\"Pressure\", figsize=(800,800),quality=3,\n",
    "                                    margin = 100, rulers = True, rulerticks= 5 )\n",
    "    surf=glucifer.objects.Surface( mesh.subMesh, fn.math.log10(pr/stress_factor),colours=\"red white blue\" ) \n",
    "\n",
    "    fig.append(surf)\n",
    "    \n",
    "\n",
    "    fig.script('scale y 1')\n",
    "    surf.colourBar[\"align\"] = \"right\"\n",
    "    surf.colourBar[\"position\"] = 150\n",
    "    surf.colourBar[\"size\"] = [0.4,0.02]\n",
    "    #surf.colourBar[\"tickvalues\"] = [18,19,20,21,22,23]\n",
    "    #fig.save('/home/haibin/Desktop/Silo/VisEla/'+'Vis'+str(step).zfill(4)+'.png')\n",
    "    fig.show()"
   ]
  },
  {
   "cell_type": "code",
   "execution_count": null,
   "metadata": {
    "collapsed": true
   },
   "outputs": [],
   "source": [
    "prPlot(100)"
   ]
  },
  {
   "cell_type": "code",
   "execution_count": null,
   "metadata": {
    "collapsed": true
   },
   "outputs": [],
   "source": [
    "\n",
    "i = 1\n",
    "nc = 100\n",
    "tt1 = np.zeros((nc,1))\n",
    "Time = np.zeros((nc,1))\n",
    "while i < nc:\n",
    "    step=i*20\n",
    "    \n",
    "    fo = open(outputPath+\"time\"+str(step).zfill(4),\"r\")\n",
    "    t = fo.read()\n",
    "    time_factor = nd(1*u.kiloyear)\n",
    "    time = float(t)/time_factor \n",
    "    time = Decimal(time).quantize(Decimal('1.0'))\n",
    "    Time[i] = time\n",
    "    velField = uw.mesh.MeshVariable(mesh=mesh,nodeDofCount=2)\n",
    "\n",
    "\n",
    "    velField.load(outputPath+'velocityField'+str(step).zfill(4))\n",
    "    vel = uw.mesh.MeshVariable(mesh=mesh,nodeDofCount=1)\n",
    "    vel.data[:,0]=velField.data[:,1]\n",
    "    '''\n",
    "    meshDevStress = uw.mesh.MeshVariable( mesh, 1 )\n",
    "    meshDevStress.load(outputPath+\"meshElasticStress\"+str(step).zfill(4))\n",
    "    meshDevStress = sca.Dimensionalize(meshDevStress, units=u.pascal)\n",
    "    '''\n",
    "\n",
    "    \n",
    "    count = 1\n",
    "    locations1 = np.zeros( (count,2))\n",
    "    locations1[:,0] = 0.0 #np.linspace(-0.2,0.2,count)\n",
    "    locations1[:,1] = 0.1\n",
    "    tt1[i]= vel.evaluate(locations1)\n",
    "    \n",
    "    i+= 1\n",
    "\n",
    "\n",
    "\n",
    "\n",
    "xx = np.linspace(-0.2,0.2,count)\n",
    "plt.plot(Time[1:],tt1[1:])\n",
    "plt.xlabel(\"Time $[kyr]$\")\n",
    "plt.ylabel(\"Velocity $[cm/yr]$\")\n",
    "#pyplot.plot(xx,tt1/vel_factor,'r*')\n",
    "#pyplot.plot(xx,tt2/vel_factor,'bo')data:image/png;base64,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\n",
    "#plt.savefig('/home/haibin/Desktop/Silo/Vis/'+'VelPoint10000Kyr'+'.png',dpi=300)\n",
    "\n",
    "plt.show()"
   ]
  },
  {
   "cell_type": "code",
   "execution_count": null,
   "metadata": {
    "collapsed": true
   },
   "outputs": [],
   "source": [
    "step = 1000\n",
    "swarmCopy = uw.swarm.Swarm( mesh=mesh )\n",
    "swarmCopy.load(outputPath+'swarm'+str(step).zfill(4))\n",
    "prStress = swarmCopy.add_variable(\"double\",3)\n",
    "prStress.load(outputPath+\"previousStress\"+str(step).zfill(4))\n",
    "figMeshDevStress =  glucifer.Figure(title=\"Time=\"+str(time)+\"Myr\",figsize=(600,1000),quality=3,\n",
    "                                margin = 50, rulers = True, rulerticks= 5 )\n",
    "surf = glucifer.objects.Points( swarmCopy,fn.math.log10(prStress[1]/stress_factor),valueRange=(4,7),colours=\"blue white yellow red\")\n",
    "figMeshDevStress.append(surf )\n",
    "#arrowMin = glucifer.objects.VectorArrows( mesh, stressMax_Vector , scaling=2e-1, arrowHead=1,resolutionI=23, resolutionJ=23)\n",
    "#figMeshDevStress.append(arrowMin)\n",
    "figMeshDevStress.script('scale x 1')\n",
    "surf.colourBar[\"size\"] = [0.5,0.02]\n",
    "surf.colourBar[\"tickvalues\"] = [1]\n",
    "surf.colourBar[\"align\"] = \"right\"\n",
    "surf.colourBar[\"position\"] = 150\n",
    "\n",
    "#figMeshDevStress.save('/home/haibin/Desktop/CplxTest/'+'Fault3PStrain'+str(step).zfill(4)+'.png')\n",
    "\n",
    "figMeshDevStress.show()"
   ]
  },
  {
   "cell_type": "code",
   "execution_count": null,
   "metadata": {
    "collapsed": true
   },
   "outputs": [],
   "source": [
    "step = 1000\n",
    "\n",
    "\n",
    "fo = open(outputPath+\"time\"+str(step).zfill(4),\"r\")\n",
    "t = fo.read()\n",
    "time_factor = nd(1*u.kiloyear)\n",
    "time = float(t)/time_factor \n",
    "time = Decimal(time).quantize(Decimal('1.0'))\n",
    "velField = uw.mesh.MeshVariable(mesh=mesh,nodeDofCount=2)\n",
    "\n",
    "\n",
    "velField.load(outputPath+'velocityField'+str(step).zfill(4))\n",
    "vel = uw.mesh.MeshVariable(mesh=mesh,nodeDofCount=1)\n",
    "vel.data[:,0]=velField.data[:,1]\n",
    "\n",
    "\n",
    "count = 100\n",
    "locations1 = np.zeros( (count,2))\n",
    "locations1[:,0] = np.linspace(-0.2,0.2,count)\n",
    "locations1[:,1] = 0.05\n",
    "\n",
    "\n",
    "tt1 = vel.evaluate(locations1)\n",
    "\n",
    "locations1[:,1] = 0.1\n",
    "tt2 = vel.evaluate(locations1)\n",
    "\n",
    "locations1[:,1] = 0.2\n",
    "tt3 = vel.evaluate(locations1)\n",
    "\n",
    "locations1[:,1] = 0.3\n",
    "tt4 = vel.evaluate(locations1)\n",
    "\n",
    "xx = np.linspace(-0.2,0.2,count)\n",
    "fig,ax=plt.subplots(figsize=(10,5))\n",
    "plt.plot(xx,tt1/vel_factor,'-^',markersize=10,label='Y = 0.0',Alpha=0.7)\n",
    "plt.plot(xx,tt2/vel_factor,'-s',markersize=10,label='Y = 0.1',Alpha=0.6)\n",
    "plt.plot(xx,tt3/vel_factor,'-*',markersize=10,label='Y = 0.2',Alpha=0.4)\n",
    "plt.plot(xx,tt4/vel_factor,'-o',markersize=10,label='Y = 0.3',Alpha=0.2)\n",
    "\n",
    "plt.xlabel(\"X\")\n",
    "plt.ylabel(\"Velocity $[cm/yr]$\")\n",
    "plt.title(\"Time = \"+str(time)+\" kyr\")\n",
    "plt.legend()\n",
    "plt.savefig('/home/haibin/Desktop/Silo/VisEla/'+'VelProfile'+str(step) +'.png',dpi=300)\n",
    "\n",
    "\n",
    "plt.show()"
   ]
  },
  {
   "cell_type": "code",
   "execution_count": null,
   "metadata": {
    "collapsed": true
   },
   "outputs": [],
   "source": [
    "def tempPlot(step):\n",
    "    temp= uw.mesh.MeshVariable(mesh=mesh,nodeDofCount=1)\n",
    "    temp.load(outputPath+'temperatureField'+str(step).zfill(4))\n",
    "\n",
    "\n",
    "\n",
    "    fo = open(outputPath+\"time\"+str(step).zfill(4),\"r\")\n",
    "    t = fo.read()\n",
    "    time_factor = nd(1*u.megayear)\n",
    "    time = float(t)/time_factor \n",
    "    time = Decimal(time).quantize(Decimal('1.000'))\n",
    "\n",
    "    fig = glucifer.Figure(title=\"Time=\"+str(time)+\"Myr\"+\"  \"+\"Viscosity\", figsize=(800,300),quality=3,\n",
    "                                    margin = 100, rulers = True, rulerticks= 5 )\n",
    "    surf=glucifer.objects.Surface( mesh, temp/temp_factor,colours=\"red white blue\" ) \n",
    "    #fig.append(glucifer.objects.Mesh( mesh )) \n",
    "    #fig.append(glucifer.objects.Surface( mesh, fn.math.log10(strainRate), valueRange=[-17,-13],colours=\"blue white red\" ) )\n",
    "    fig.append(surf)\n",
    "\n",
    "    #fig.append(glucifer.objects.VectorArrows( mesh, vel/vel_factor, scaling=8e-4,arrowHead =10,resolutionI=10, resolutionJ=21))\n",
    "    #fig.append(glucifer.objects.Surface(mesh, vel/vel_factor,colours=\"blue white red \") )\n",
    "    \n",
    "\n",
    "    fig.script('scale y 2')\n",
    "    surf.colourBar[\"align\"] = \"right\"\n",
    "    surf.colourBar[\"position\"] = 150\n",
    "    surf.colourBar[\"size\"] = [0.4,0.02]\n",
    "    surf.colourBar[\"tickvalues\"] = [19.5]\n",
    "    #fig.save('/home/haibin/Desktop/Boudary Effect/'+'ViscosityL400400Grd10'+str(step).zfill(4)+'.png')\n",
    "    fig.show()"
   ]
  },
  {
   "cell_type": "code",
   "execution_count": null,
   "metadata": {
    "collapsed": true
   },
   "outputs": [],
   "source": [
    "tempPlot(1300)"
   ]
  },
  {
   "cell_type": "code",
   "execution_count": null,
   "metadata": {
    "collapsed": true
   },
   "outputs": [],
   "source": [
    "import matplotlib.pyplot as pyplot\n",
    "step1 = 100\n",
    "step2 = 700\n",
    "temp= uw.mesh.MeshVariable(mesh=mesh,nodeDofCount=1)\n",
    "temp.load(outputPath+'temperatureField'+str(step1).zfill(4))\n",
    "count = 100\n",
    "locations1 = np.zeros( (count,2))\n",
    "locations1[:,0] = 1\n",
    "locations1[:,1] = np.linspace(0.,1,count)\n",
    "tt1= temp.evaluate(locations1)\n",
    "temp= uw.mesh.MeshVariable(mesh=mesh,nodeDofCount=1)\n",
    "temp.load(outputPath+'temperatureField'+str(step2).zfill(4))\n",
    "\n",
    "\n",
    "tt2 = temp.evaluate(locations1)\n",
    "\n",
    "\n",
    "xx = locations1[:,1]\n",
    "pyplot.plot(tt1*1773-273,xx*700-680,'r*')\n",
    "pyplot.plot(tt2*1773-273,xx*700-680,'bo')\n",
    "\n",
    "#pyplot.plot((120e3-xx),TT1-273,'r*')\n",
    "#pyplot.plot((120e3-xx),TT2-273,'bo')\n",
    "\n",
    "pyplot.show()"
   ]
  },
  {
   "cell_type": "code",
   "execution_count": null,
   "metadata": {
    "collapsed": true
   },
   "outputs": [],
   "source": [
    "def strainRatePlot(step):\n",
    "\n",
    "    velField = uw.mesh.MeshVariable(mesh=mesh,nodeDofCount=2)\n",
    "    velField.load(outputPath+'velocityField'+str(step).zfill(4))\n",
    "\n",
    "    \n",
    "    \n",
    "    fo = open(outputPath+\"time\"+str(step).zfill(4),\"r\")\n",
    "    t = fo.read()\n",
    "    time_factor = nd(1*u.megayear)\n",
    "    time = float(t)/time_factor\n",
    "    \n",
    "    strainRateFn = fn.tensor.symmetric( velField.fn_gradient )\n",
    "    strainRate_2ndInvariant = fn.tensor.second_invariant(strainRateFn)\n",
    "    #fig = glucifer.Figure(title=\"Time=\"+str(time)+\"Myr\"+\"  \"+\"Strainrate\",figsize=(600,800),quality=3,\n",
    "     #                               margin = 100, rulers = True, rulerticks= 5 )\n",
    "    fig = glucifer.Figure(figsize=(800,500),quality=3,\n",
    "                                    margin = 80, rulers = True, rulerticks= 5 )\n",
    "    #fig.append(glucifer.objects.Mesh( mesh )) \n",
    "    surf=glucifer.objects.Surface( mesh, fn.math.log10(strainRate_2ndInvariant/strainRate_factor),colours=\"black grey white\" ) \n",
    "    fig.append(surf)\n",
    "    #fig.append(glucifer.objects.VectorArrows( mesh, velField, scaling=5e-1,arrowHead=5,resolutionI=24, resolutionJ=15))\n",
    "\n",
    "    fig.script('scale x 1')\n",
    "    #surf.colourBar[\"tickvalues\"] = [-15,]\n",
    "    #fig.save('/home/haibin/Desktop/Silo/Pr0e5Vis24strainRate/'+'strainRate'+str(step).zfill(4)+'.png')\n",
    "    fig.show()\n",
    "    #valueRange=(-13.5,-12),"
   ]
  },
  {
   "cell_type": "code",
   "execution_count": null,
   "metadata": {
    "collapsed": true
   },
   "outputs": [],
   "source": [
    "strainRatePlot(100)"
   ]
  },
  {
   "cell_type": "code",
   "execution_count": 3,
   "metadata": {},
   "outputs": [],
   "source": [
    "#def radonPlot(step):\n",
    "step = 15\n",
    "from skimage.transform import radon, iradon\n",
    "'''\n",
    "velField = uw.mesh.MeshVariable(mesh=mesh,nodeDofCount=2)\n",
    "velField.load(outputPath+'velocityField'+str(step).zfill(4))\n",
    "\n",
    "\n",
    "strainRateFn = fn.tensor.symmetric( velField.fn_gradient )\n",
    "strainRate_2ndInvariant = fn.tensor.second_invariant(strainRateFn)\n",
    "strainRate = strainRate_2ndInvariant.evaluate(mesh)\n",
    "strainRate = np.reshape(strainRate,(yRes+1,xRes+1))[::-1]\n",
    "'''\n",
    "\n",
    "swarmCopy = uw.swarm.Swarm( mesh=mesh )\n",
    "swarmCopy.load(outputPath+'swarm'+str(step).zfill(4))\n",
    "plasticStrainCopy = swarmCopy.add_variable(\"double\",1)\n",
    "plasticStrainCopy.load(outputPath+\"plasticStrain0\"+str(step).zfill(4))\n",
    "meshPlasticStrain= uw.mesh.MeshVariable( mesh, 1 )\n",
    "projectorPlasticStrain = uw.utils.MeshVariable_Projection( meshPlasticStrain,plasticStrainCopy, type=1)\n",
    "projectorPlasticStrain.solve()\n",
    "\n"
   ]
  },
  {
   "cell_type": "code",
   "execution_count": 61,
   "metadata": {},
   "outputs": [
    {
     "data": {
      "image/png": "[encoded data removed]",
      "text/plain": [
       "<matplotlib.figure.Figure at 0x7f18ee6f9510>"
      ]
     },
     "metadata": {},
     "output_type": "display_data"
    }
   ],
   "source": [
    "im = np.reshape(meshPlasticStrain.data,(yRes+1,xRes+1))[::-1]\n",
    "im = np.where(( im > 0.01), 1, 0)\n",
    "fig, ax1 = plt.subplots()\n",
    "neg1=ax1.imshow(im , cmap='Greys' )\n",
    "ax1.set_aspect('equal')\n",
    "#fig.colorbar(neg1, ax=ax1,orientation=\"horizontal\")\n",
    "ax1.axis('off')\n",
    "plt.savefig('/home/haibin/Desktop/'+'plasticStrain'+str(step).zfill(4)+'.png')"
   ]
  },
  {
   "cell_type": "code",
   "execution_count": 33,
   "metadata": {},
   "outputs": [
    {
     "data": {
      "image/png": "[encoded data removed]",
      "text/plain": [
       "<matplotlib.figure.Figure at 0x7f18eed81b90>"
      ]
     },
     "metadata": {},
     "output_type": "display_data"
    }
   ],
   "source": [
    "import numpy as np\n",
    "import matplotlib.pyplot as plt\n",
    "from scipy import ndimage as ndi\n",
    "\n",
    "from skimage import feature\n",
    "\n",
    "\n",
    "\n",
    "im = np.where(( im > 0.01 ), 1, 0)\n",
    "# Compute the Canny filter for two values of sigma\n",
    "edges1 = feature.canny(im, sigma=1e-1)\n",
    "edges2 = feature.canny(im, sigma=1e2)\n",
    "\n",
    "# display results\n",
    "fig, (ax1, ax2, ax3) = plt.subplots(nrows=1, ncols=3, figsize=(8, 3),\n",
    "                                    sharex=True, sharey=True)\n",
    "\n",
    "ax1.imshow(im, cmap=plt.cm.gray)\n",
    "ax1.axis('off')\n",
    "ax1.set_title('noisy image', fontsize=20)\n",
    "\n",
    "ax2.imshow(edges1, cmap=plt.cm.gray)\n",
    "ax2.axis('off')\n",
    "ax2.set_title('Canny filter, $\\sigma=1$', fontsize=20)\n",
    "\n",
    "ax3.imshow(edges2, cmap=plt.cm.gray)\n",
    "ax3.axis('off')\n",
    "ax3.set_title('Canny filter, $\\sigma=3$', fontsize=20)\n",
    "\n",
    "fig.tight_layout()\n",
    "\n",
    "plt.show()\n"
   ]
  },
  {
   "cell_type": "code",
   "execution_count": 39,
   "metadata": {},
   "outputs": [
    {
     "data": {
      "text/plain": [
       "(65, 129)"
      ]
     },
     "execution_count": 39,
     "metadata": {},
     "output_type": "execute_result"
    }
   ],
   "source": [
    "im.shape"
   ]
  },
  {
   "cell_type": "code",
   "execution_count": null,
   "metadata": {},
   "outputs": [],
   "source": [
    "img = cv2.imread('/home/haibin/Desktop/plasticStrain0015.png')\n",
    "gray = cv2.cvtColor(img,cv2.COLOR_BGR2GRAY)\n",
    "gray = np.float32(gray)\n",
    "dst = cv2.cornerHarris(gray,2,3,0.04)\n",
    "\n",
    "#result is dilated for marking the corners, not important\n",
    "dst = cv2.dilate(dst,None)\n",
    "\n",
    "# Threshold for an optimal value, it may vary depending on the image.\n",
    "img[dst>0.01*dst.max()]=[0,0,255]\n",
    "\n",
    "cv2.imshow('dst',img)\n",
    "if cv2.waitKey(0) & 0xff == 27:\n",
    "    cv2.destroyAllWindows()"
   ]
  },
  {
   "cell_type": "code",
   "execution_count": null,
   "metadata": {
    "collapsed": true
   },
   "outputs": [],
   "source": [
    "img.shape"
   ]
  },
  {
   "cell_type": "code",
   "execution_count": 35,
   "metadata": {},
   "outputs": [
    {
     "data": {
      "text/plain": [
       "<matplotlib.colorbar.Colorbar at 0x7f18fe358e10>"
      ]
     },
     "execution_count": 35,
     "metadata": {},
     "output_type": "execute_result"
    },
    {
     "data": {
      "image/png": "[encoded data removed]",
      "text/plain": [
       "<matplotlib.figure.Figure at 0x7f18eecb6310>"
      ]
     },
     "metadata": {},
     "output_type": "display_data"
    }
   ],
   "source": [
    "im = np.reshape(meshPlasticStrain.data,(yRes+1,xRes+1))[::-1]\n",
    "im = im = np.where(( im > 0.01 ), 1, 0)\n",
    "projections = radon(im,circle=False)\n",
    "fig, (ax1,ax2) = plt.subplots(1,2)\n",
    "neg1=ax1.imshow(im , cmap='coolwarm' )\n",
    "ax1.set_aspect('equal')\n",
    "fig.colorbar(neg1, ax=ax1,orientation=\"horizontal\")\n",
    "\n",
    "\n",
    "neg2=ax2.imshow(projections , cmap='coolwarm' )\n",
    "ax2.set_aspect(1./ax2.get_data_ratio())\n",
    "fig.colorbar(neg2, ax=ax2,orientation=\"horizontal\")"
   ]
  },
  {
   "cell_type": "code",
   "execution_count": 36,
   "metadata": {},
   "outputs": [
    {
     "data": {
      "image/png": "[encoded data removed]",
      "text/plain": [
       "<matplotlib.figure.Figure at 0x7f18eef2a850>"
      ]
     },
     "metadata": {},
     "output_type": "display_data"
    }
   ],
   "source": [
    "projections2 = projections\n",
    "projections2[:,90:]=0\n",
    "\n",
    "plt.imshow(projections2, cmap='coolwarm' )\n",
    "plt.show()\n"
   ]
  },
  {
   "cell_type": "code",
   "execution_count": 37,
   "metadata": {},
   "outputs": [
    {
     "name": "stderr",
     "output_type": "stream",
     "text": [
      "/usr/local/lib/python2.7/dist-packages/skimage/transform/radon_transform.py:204: UserWarning: The default of `circle` in `skimage.transform.iradon` will change to `True` in version 0.15.\n",
      "  warn('The default of `circle` in `skimage.transform.iradon` '\n"
     ]
    },
    {
     "data": {
      "image/png": "[encoded data removed]",
      "text/plain": [
       "<matplotlib.figure.Figure at 0x7f18eec01910>"
      ]
     },
     "metadata": {},
     "output_type": "display_data"
    }
   ],
   "source": [
    "reconstruction = iradon(projections2)\n",
    "\n",
    "plt.title(\"Reconstruction\\nfrom sinogram\")\n",
    "plt.imshow(reconstruction, cmap='coolwarm' )\n",
    "\n",
    "plt.show()"
   ]
  },
  {
   "cell_type": "code",
   "execution_count": null,
   "metadata": {
    "collapsed": true
   },
   "outputs": [],
   "source": [
    "def curlPlot(step):\n",
    "\n",
    "    velField = uw.mesh.MeshVariable(mesh=mesh,nodeDofCount=2)\n",
    "    velField.load(outputPath+'velocityField'+str(step).zfill(4))\n",
    "\n",
    "    \n",
    "    \n",
    "    fo = open(outputPath+\"time\"+str(step).zfill(4),\"r\")\n",
    "    t = fo.read()\n",
    "    time_factor = nd(1*u.megayear)\n",
    "    time = float(t)/time_factor\n",
    "    \n",
    "    curl = fn.tensor.antisymmetric(velField.fn_gradient )\n",
    "\n",
    "    #fig = glucifer.Figure(title=\"Time=\"+str(time)+\"Myr\"+\"  \"+\"Strainrate\",figsize=(600,800),quality=3,\n",
    "     #                               margin = 100, rulers = True, rulerticks= 5 )\n",
    "    fig = glucifer.Figure(figsize=(800,500),quality=3,\n",
    "                                    margin = 80, rulers = True, rulerticks= 5 )\n",
    "    #fig.append(glucifer.objects.Mesh( mesh )) \n",
    "    surf=glucifer.objects.Surface( mesh, (curl[1]),colours=\"black grey white\" ) \n",
    "    fig.append(surf)\n",
    "    #fig.append(glucifer.objects.VectorArrows( mesh, velField, scaling=5e-1,arrowHead=5,resolutionI=24, resolutionJ=15))\n",
    "\n",
    "    fig.script('scale x 1')\n",
    "    #surf.colourBar[\"tickvalues\"] = [-15,]\n",
    "    #fig.save('/home/haibin/Desktop/landslide/curl/'+'curl'+str(step).zfill(4)+'.png')\n",
    "    fig.show()\n",
    "    #valueRange=(-13.5,-12),\n",
    "\n"
   ]
  },
  {
   "cell_type": "code",
   "execution_count": null,
   "metadata": {},
   "outputs": [],
   "source": [
    "curlPlot(15)"
   ]
  },
  {
   "cell_type": "code",
   "execution_count": null,
   "metadata": {
    "collapsed": true
   },
   "outputs": [],
   "source": [
    "max(curl[:,1])"
   ]
  },
  {
   "cell_type": "code",
   "execution_count": null,
   "metadata": {
    "collapsed": true
   },
   "outputs": [],
   "source": [
    "step = 0\n",
    "velField = uw.mesh.MeshVariable(mesh=mesh,nodeDofCount=2)\n",
    "velField.load(outputPath+'velocityField'+str(step).zfill(4))\n",
    "\n",
    "\n",
    "count = 650\n",
    "\n",
    "\n",
    "locations1 = np.zeros( (count,2))\n",
    "locations1[:,0] = np.linspace(minX,maxX,count) \n",
    "locations1[:,1] = 2.\n",
    "\n",
    "locations2 = np.zeros( (count,2))\n",
    "locations2[:,0] = -0.7\n",
    "locations2[:,1] = np.linspace(minY,maxY,count) \n",
    "\n",
    "TT1= velField.evaluate(locations1)\n",
    "TT2= velField.evaluate(locations2)\n",
    "\n",
    "xx1 = locations1[:,0]/1e3\n",
    "xx2 = locations2[:,1]/1e3\n",
    "tt1 = TT1/vel_factor\n",
    "tt2 = TT2/vel_factor\n",
    "\n",
    "#plt.plot(xx1,tt1[:,0],'bo')\n",
    "plt.subplot(121)\n",
    "plt.plot(xx1,tt1[:,1],'bo')\n",
    "plt.subplot(122)\n",
    "plt.plot(xx2,tt2[:,1],'bo')\n",
    "\n",
    "plt.show()"
   ]
  },
  {
   "cell_type": "code",
   "execution_count": null,
   "metadata": {
    "collapsed": true,
    "scrolled": true
   },
   "outputs": [],
   "source": [
    "def stressPlot(step):\n",
    "    \n",
    "    fo = open(outputPath+\"time\"+str(step).zfill(4),\"r\")\n",
    "    t = fo.read()\n",
    "    time_factor = nd(1*u.megayear)\n",
    "    time = float(t)/time_factor\n",
    "    \n",
    "    velField = uw.mesh.MeshVariable(mesh=mesh,nodeDofCount=2)\n",
    "    vis = uw.mesh.MeshVariable(mesh=mesh,nodeDofCount=1)\n",
    "\n",
    "    velField.load(outputPath+'velocityField'+str(step).zfill(4))\n",
    "    vis.load(outputPath+'meshViscosity'+str(step).zfill(4))\n",
    "    \n",
    "    stressTensor  = uw.mesh.MeshVariable( mesh=mesh,  nodeDofCount=6 )\n",
    "    strainRateFn = fn.tensor.symmetric(velField.fn_gradient )\n",
    "    devStressFn = 2.0 * vis*strainRateFn   \n",
    "    \n",
    "    stress_factor = nd(1*u.pascal)\n",
    "    stressMapFn = 2.0 *vis* strainRateFn/stress_factor\n",
    "    \n",
    "    meshDevStress = uw.mesh.MeshVariable( mesh, 1 )\n",
    "    meshDevStress.load(outputPath+\"meshElasticStress\"+str(step).zfill(4))\n",
    "    meshDevStress = sca.Dimensionalize(meshDevStress, units=u.pascal)\n",
    "\n",
    "    figMeshDevStress= glucifer.Figure(title=\"time=\"+str(time)+\"Myr\"+\"  \"+\"Stress\",figsize=(800,500),quality=3,\n",
    "                                    margin = 100, rulers = True, rulerticks= 11 )\n",
    "    #figMeshDevStress.append( glucifer.objects.Surface(mesh,fn.math.log10(fn.math.abs(stressMapFn[0])),colours=\"blue white red\") )\n",
    "    surf = glucifer.objects.Surface(mesh,fn.math.log10((meshDevStress)),valueRange=(4,7), colours=\"blue yellow red white\") \n",
    "    figMeshDevStress.append( surf)\n",
    "    figMeshDevStress.script('scale x 1')\n",
    "    surf.colourBar[\"tickvalues\"] = [4,5,6]\n",
    "    figMeshDevStress.show()"
   ]
  },
  {
   "cell_type": "code",
   "execution_count": null,
   "metadata": {
    "collapsed": true,
    "scrolled": true
   },
   "outputs": [],
   "source": [
    "stressPlot(300)"
   ]
  },
  {
   "cell_type": "code",
   "execution_count": null,
   "metadata": {
    "collapsed": true
   },
   "outputs": [],
   "source": [
    "stressPlot(1000)"
   ]
  },
  {
   "cell_type": "code",
   "execution_count": null,
   "metadata": {
    "collapsed": true
   },
   "outputs": [],
   "source": [
    "def materialPlot(step): \n",
    "    fo = open(outputPath+\"time\"+str(step).zfill(4),\"r\")\n",
    "    t = fo.read()\n",
    "    time_factor = nd(1*u.megayear)\n",
    "    time = float(t)/time_factor\n",
    "    \n",
    "    vis= uw.mesh.MeshVariable(mesh=mesh,nodeDofCount=1)\n",
    "    velField = uw.mesh.MeshVariable(mesh=mesh,nodeDofCount=2)\n",
    "    vel = uw.mesh.MeshVariable(mesh=mesh,nodeDofCount=2)\n",
    "    \n",
    "    velField.load(outputPath+'velocityField'+str(step).zfill(4))\n",
    "    vel.data[:,0]=1*velField.data[:,0]\n",
    "    vel.data[:,1]=1*velField.data[:,1]\n",
    "    \n",
    "    swarmCopy = uw.swarm.Swarm( mesh=mesh )\n",
    "    swarmCopy.load(outputPath+'swarm'+str(step).zfill(4))\n",
    "    materialIndexCopy = swarmCopy.add_variable(\"int\",1)\n",
    "    materialIndexCopy.load(outputPath+'materialVariable'+str(step).zfill(4))\n",
    "    \n",
    "    deformationSwarm1 = uw.swarm.Swarm( mesh=mesh )\n",
    "    deformationSwarm1.load(outputPath+\"deformationSwarm1\"+str(step).zfill(4))\n",
    "    '''\n",
    "    deformationSwarm2 = uw.swarm.Swarm( mesh=mesh )\n",
    "    deformationSwarm2.load(outputPath+\"deformationSwarm2\"+str(step).zfill(4))\n",
    "    '''\n",
    "    fig = glucifer.Figure( title=\"time=\"+str(time)+\"Myr\",figsize=(800,500),quality=3,\n",
    "                                    margin = 100, rulers = True, rulerticks= 5 )\n",
    "    \n",
    "    #fig.append(glucifer.objects.Mesh( mesh )) \n",
    "    #fig.append(glucifer.objects.Surface( mesh, fn.math.log10(strainRate), valueRange=[-17,-13],colours=\"blue white red\" ) )\n",
    "    surf1 = glucifer.objects.Points( deformationSwarm1, 1,pointSize=5,colours=\"blue \" )\n",
    "    #fig.append(surf1)\n",
    "    fig.append(glucifer.objects.Points( swarmCopy, materialIndexCopy,pointSize=3,colours=\"grey white\" ) ) \n",
    "\n",
    "    #surf2 = glucifer.objects.Points( deformationSwarm2, 1,pointSize=3,colours=\"blue\" ) \n",
    "    \n",
    "    #fig.append(surf2)\n",
    "    \n",
    "    fig.append(glucifer.objects.VectorArrows( mesh, vel/vel_factor, scaling=1e-2,arrowHead =10,resolutionI=15, resolutionJ=21))\n",
    "    \n",
    "    fig.script('scale y 1')\n",
    "    '''\n",
    "    surf1.colourBar[\"align\"] = \"right\"\n",
    "    surf1.colourBar[\"position\"] = 200\n",
    "    surf1.colourBar[\"size\"] = [0.4,0.02]\n",
    "    '''\n",
    "\n",
    "    \n",
    "    #surf.colourBar[\"tickvalues\"] = [18,19,20,21,22]\n",
    "    \n",
    "    fig.show()\n"
   ]
  },
  {
   "cell_type": "code",
   "execution_count": null,
   "metadata": {
    "collapsed": true
   },
   "outputs": [],
   "source": [
    " materialPlot(300)"
   ]
  },
  {
   "cell_type": "code",
   "execution_count": null,
   "metadata": {
    "collapsed": true
   },
   "outputs": [],
   "source": []
  },
  {
   "cell_type": "markdown",
   "metadata": {},
   "source": [
    "pressure = uw.mesh.MeshVariable( mesh=mesh.subMesh, nodeDofCount=1 )\n",
    "pressure.load(outputPath+\"pressureField\"+str(step).zfill(4)) \n",
    "figPressure= glucifer.Figure( figsize=(1000,900),quality=3, margin=150, rulers=True, rulerticks=9 )\n",
    "figPressure.append( glucifer.objects.Surface(mesh,fn.math.log10(pressure), colours=\"blue yellow red white\") \n",
    "                  )\n",
    "figPressure.show()"
   ]
  },
  {
   "cell_type": "code",
   "execution_count": null,
   "metadata": {
    "collapsed": true
   },
   "outputs": [],
   "source": [
    "def stressTensorPlot(step):\n",
    "    from numpy.linalg import eig,solve,lstsq\n",
    "    fo = open(outputPath+\"time\"+str(step).zfill(4),\"r\")\n",
    "    t = fo.read()\n",
    "    time_factor = nd(1*u.megayear)\n",
    "    time = float(t)/time_factor\n",
    "    time = Decimal(time).quantize(Decimal('1.000'))\n",
    "    \n",
    "    swarmCopy = uw.swarm.Swarm( mesh=mesh )\n",
    "    swarmCopy.load(outputPath+'swarm'+str(step).zfill(4))\n",
    "    velField = uw.mesh.MeshVariable(mesh=mesh,nodeDofCount=2)\n",
    "    vis= uw.mesh.MeshVariable(mesh=mesh,nodeDofCount=1)\n",
    "\n",
    "    velField.load(outputPath+'velocityField'+str(step).zfill(4))\n",
    "    vis.load(outputPath+'meshViscosity'+str(step).zfill(4))\n",
    "    \n",
    "    stressTensor  = uw.mesh.MeshVariable( mesh=mesh,  nodeDofCount=6 )\n",
    "    strainRateFn = fn.tensor.symmetric(velField.fn_gradient )\n",
    "    devStressFn = 2.0 * strainRateFn\n",
    "    stress  = uw.mesh.MeshVariable( mesh=mesh,         nodeDofCount=3*3 )\n",
    "    stressEig  = uw.mesh.MeshVariable( mesh=mesh,         nodeDofCount=3 )\n",
    "    stressAngle  = uw.mesh.MeshVariable( mesh=mesh,         nodeDofCount=3 )\n",
    "    angleLeft = uw.mesh.MeshVariable( mesh=mesh,         nodeDofCount=4 )\n",
    "    angleRight = uw.mesh.MeshVariable( mesh=mesh,         nodeDofCount=2 )\n",
    "    ratioAngle = uw.mesh.MeshVariable( mesh=mesh,         nodeDofCount=2 )\n",
    "    theta = uw.mesh.MeshVariable( mesh=mesh,         nodeDofCount=1 )\n",
    "    cosX = uw.mesh.MeshVariable( mesh=mesh,         nodeDofCount=1 )\n",
    "    cosY = uw.mesh.MeshVariable( mesh=mesh,         nodeDofCount=1 )\n",
    "    cosZ = uw.mesh.MeshVariable( mesh=mesh,         nodeDofCount=1 )\n",
    "\n",
    "    # In[3]:\n",
    "\n",
    "    stress.data[:,0]=devStressFn[0].evaluate(mesh)[:,0]\n",
    "    stress.data[:,4]=devStressFn[1].evaluate(mesh)[:,0]\n",
    "    stress.data[:,8]=0.\n",
    "    stress.data[:,1]=devStressFn[2].evaluate(mesh)[:,0]\n",
    "    stress.data[:,3]=devStressFn[2].evaluate(mesh)[:,0]\n",
    "    stress.data[:,5]=0.\n",
    "    stress.data[:,7]=0.\n",
    "    stress.data[:,2]=0.\n",
    "    stress.data[:,6]=0.\n",
    "\n",
    "    # In[4]:\n",
    "\n",
    "    for index, item in enumerate(stress.data): \n",
    "        stressEig.data[index,:]= eig(np.reshape(stress.data[index,:],[3,3]))[0]    \n",
    "\n",
    "    # In[5]:\n",
    "\n",
    "    stressEig.data[:].sort()\n",
    "\n",
    "    ## 0-min principle stress(compression);2-max principle stress(extension)\n",
    "    sigma=stressEig.data[:,0]\n",
    "    angleLeft.data[:,0]=stress.data[:,3]\n",
    "    angleLeft.data[:,1]=stress.data[:,6]\n",
    "    angleLeft.data[:,2]=stress.data[:,4]-sigma\n",
    "    angleLeft.data[:,3]=stress.data[:,7]\n",
    "    angleRight.data[:,0]=sigma-stress.data[:,0]\n",
    "    angleRight.data[:,1]=-stress.data[:,1]\n",
    "    #stressEig.data\n",
    "\n",
    "\n",
    "    for index, item in enumerate(angleLeft.data): \n",
    "        ratioAngle.data[index,:]=lstsq(np.reshape(angleLeft.data[index],[2,2]),angleRight.data[index])[0]\n",
    "\n",
    "    for index, item in enumerate(ratioAngle.data):\n",
    "        cosX.data[index]=1./math.pow(1.+ratioAngle.data[index,1]*ratioAngle.data[index,1]+                                   ratioAngle.data[index,0]*ratioAngle.data[index,0],0.5)\n",
    "        cosY.data[index]=cosX.data[index]*ratioAngle.data[index,0]\n",
    "        cosZ.data[index]=cosX.data[index]*ratioAngle.data[index,1]   \n",
    "        \n",
    "    sigma1 = 1\n",
    "    stressMax_Vector = uw.mesh.MeshVariable( mesh, 2 )\n",
    "    stressMax_Vector.data[:,0]=sigma1*cosX.evaluate(mesh)[:,0]\n",
    "    stressMax_Vector.data[:,1]=sigma1*cosY.evaluate(mesh)[:,0]\n",
    "    theta.data[:,0] = np.degrees(np.arctan(stressMax_Vector.data[:,1]/stressMax_Vector.data[:,0]))\n",
    "    \n",
    "    plasticStrainCopy = swarmCopy.add_variable(\"double\",1)\n",
    "    plasticStrainCopy.load(outputPath+\"plasticStrain\"+str(step).zfill(4))\n",
    "    \n",
    "    velField = uw.mesh.MeshVariable(mesh=mesh,nodeDofCount=2)\n",
    "    velField.load(outputPath+'velocityField'+str(step).zfill(4))\n",
    "\n",
    "\n",
    "    \n",
    "    strainRateFn = fn.tensor.symmetric( velField.fn_gradient )\n",
    "    strainRate_2ndInvariant = fn.tensor.second_invariant(strainRateFn)\n",
    "    \n",
    "    \n",
    "    #figMeshDevStress= glucifer.Figure(title=\"time=\"+str(time)+\"Myr\"+\"  \"+\"PlasticStrain\",figsize=(600,600),quality=3,\n",
    "    #                               margin = 80, rulers = True, rulerticks= 5 )\n",
    "    #figMeshDevStress.append( glucifer.objects.Points( swarmCopy, plasticStrainCopy,valueRange=[0,2], colours=\"white grey black\") )\n",
    "    fig = glucifer.Figure(title=\"Time=\"+str(time)+\"Myr\",figsize=(600,700),quality=3,\n",
    "                                    margin = 80, rulers = True, rulerticks= 5 )\n",
    "    #fig.append(glucifer.objects.Mesh( mesh )) \n",
    "    surf = glucifer.objects.Surface( mesh, fn.math.log10(strainRate_2ndInvariant/strainRate_factor),valueRange=(-16,-12),colours=\"white grey black\" ) \n",
    "    fig.append(surf)\n",
    "    #fig.append(glucifer.objects.VectorArrows( mesh, velField, scaling=5e-2,arrowHead=5,resolutionI=24, resolutionJ=15))\n",
    "\n",
    "    arrowMin = glucifer.objects.VectorArrows( mesh, stressMax_Vector , scaling=1e-1, arrowHead=1,resolutionI=15, resolutionJ=21)\n",
    "    print max(plasticStrainCopy.data)\n",
    "    fig.append(arrowMin)\n",
    "    fig.script('scale x 1')\n",
    "    surf.colourBar[\"tickvalues\"] = [-15,-14,-13]\n",
    "    surf.colourBar[\"align\"] = \"right\"\n",
    "    surf.colourBar[\"position\"] = 150\n",
    "    surf.colourBar[\"size\"] = [0.4,0.02]\n",
    "    \n",
    "    #fig.save('/home/haibin/Desktop/CplxTest/'+'Case3PStress'+str(step).zfill(4)+'.png')\n",
    "    fig.show()\n",
    "    \n",
    "    return sigma, theta"
   ]
  },
  {
   "cell_type": "code",
   "execution_count": null,
   "metadata": {
    "collapsed": true
   },
   "outputs": [],
   "source": [
    "def plasticStrainPlot(step):\n",
    "\n",
    "    fo = open(outputPath+\"time\"+str(step).zfill(4),\"r\")\n",
    "    t = fo.read()\n",
    "    time_factor = nd(1*u.megayear)\n",
    "    time = float(t)/time_factor \n",
    "    time = Decimal(time).quantize(Decimal('1.000'))\n",
    "    \n",
    "    swarmCopy = uw.swarm.Swarm( mesh=mesh )\n",
    "    swarmCopy.load(outputPath+'swarm'+str(step).zfill(4))\n",
    "    plasticStrainCopy = swarmCopy.add_variable(\"double\",1)\n",
    "    plasticStrainCopy.load(outputPath+\"plasticStrain0\"+str(step).zfill(4))\n",
    "\n",
    "    figMeshDevStress =  glucifer.Figure(title=\"Time=\"+str(time)+\"Myr\",figsize=(800,500),quality=3,\n",
    "                                    margin = 80, rulers = True, rulerticks= 5 )\n",
    "    surf = glucifer.objects.Points( swarmCopy, plasticStrainCopy,colours=\"white grey black\")\n",
    "    figMeshDevStress.append(surf )\n",
    "    #arrowMin = glucifer.objects.VectorArrows( mesh, stressMax_Vector , scaling=2e-1, arrowHead=1,resolutionI=23, resolutionJ=23)\n",
    "    print max(plasticStrainCopy.data)\n",
    "    #figMeshDevStress.append(arrowMin)\n",
    "    figMeshDevStress.script('scale x 1')\n",
    "    surf.colourBar[\"size\"] = [0.5,0.02]\n",
    "    surf.colourBar[\"tickvalues\"] = [1]\n",
    "    surf.colourBar[\"align\"] = \"right\"\n",
    "    surf.colourBar[\"position\"] = 150\n",
    "\n",
    "    #figMeshDevStress.save('/home/haibin/Desktop/'+'landSliding'+str(step).zfill(4)+'.png')\n",
    "\n",
    "    figMeshDevStress.show()"
   ]
  },
  {
   "cell_type": "code",
   "execution_count": null,
   "metadata": {
    "collapsed": true
   },
   "outputs": [],
   "source": [
    "plasticStrainPlot(15)"
   ]
  },
  {
   "cell_type": "code",
   "execution_count": null,
   "metadata": {
    "collapsed": true
   },
   "outputs": [],
   "source": [
    "stressTensorPlot(1000)"
   ]
  },
  {
   "cell_type": "code",
   "execution_count": null,
   "metadata": {
    "collapsed": true
   },
   "outputs": [],
   "source": [
    "n = 17\n",
    "nc = 18\n",
    "peak =np.zeros((nc,1))\n",
    "while n < nc:\n",
    "    step = n*20\n",
    "    print n\n",
    "    sigma,theta=stressTensorPlot(step)\n",
    "    item_index1 = np.where((abs(mesh.data[:,0])<=1) & (abs(sigma)>0.01*np.max(abs(sigma)))) \n",
    "    item_index2 = np.where((abs(mesh.data[:,0])<=1) & (abs(sigma)<0.01*np.max(abs(sigma))))\n",
    "    #item_index1 = np.where(abs(sigma)>0.01*np.max(abs(sigma)))\n",
    "    #item_index2 = np.where(abs(sigma)<=0.01*np.max(abs(sigma)))\n",
    "    \n",
    "    seq1 = np.array(item_index1)\n",
    "    ncount1  = np.size(seq1)\n",
    "    thetaLevel1=np.zeros(np.size(seq1))\n",
    "    i=0\n",
    "    while i<ncount1:\n",
    "        thetaLevel1[i]=theta.data[seq1[0][i]]\n",
    "        i+=1\n",
    "\n",
    "    seq2 = np.array(item_index2)\n",
    "    ncount2  = np.size(seq2)\n",
    "    thetaLevel2=np.zeros(np.size(seq2))\n",
    "    \n",
    "    i=0\n",
    "    while i<ncount2:\n",
    "        thetaLevel2[i]=theta.data[seq2[0][i]]\n",
    "        i+=1\n",
    "    '''    \n",
    "    bin_values = np.arange(start=20, stop=70, step=10)\n",
    "    #fre, edge = np.histogram(theta.data, bins=bin_values,density = True)\n",
    "\n",
    "    #peak[n] = max(fre)/sum(fre)\n",
    "    \n",
    "    import pandas as pd\n",
    "    import seaborn as sns\n",
    "    sns.set(color_codes=True)\n",
    "    plt.subplots()\n",
    "\n",
    "    pd.Series(thetaLevel2).plot(kind='hist', bins=100,color='r',label='=<0.01')\n",
    "    pd.Series(thetaLevel1).plot(kind='hist', bins=100,color='b', alpha=0.5,label='>0.01')\n",
    "    #plt.hist(thetaLevel1, bins=100,label='>0.01')\n",
    "    #plt.hist(thetaLevel2, bins=100,label='=<0.01')\n",
    "    plt.xlabel('angle $[degree]$')\n",
    "    plt.ylabel('Number of events')\n",
    "    #plt.savefig('/home/haibin/Desktop/Riedel/'+'1hist'+str(step)+'.png',dpi=300)\n",
    "    plt.legend()\n",
    "    '''\n",
    "    n+=1"
   ]
  },
  {
   "cell_type": "code",
   "execution_count": null,
   "metadata": {
    "collapsed": true
   },
   "outputs": [],
   "source": [
    "bin_values = np.arange(start=20, stop=70, step=10)\n",
    "#fre, edge = np.histogram(theta.data, bins=bin_values,density = True)\n",
    "\n",
    "#peak[n] = max(fre)/sum(fre)\n",
    "\n",
    "import pandas as pd\n",
    "import seaborn as sns\n",
    "sns.set(color_codes=True)\n",
    "plt.subplots()\n",
    "\n",
    "pd.Series(thetaLevel1).plot(kind='hist', normed=True,bins=50,color='g', label='Inside/High_stress')\n",
    "pd.Series(thetaLevel2).plot(kind='hist', normed=True,bins=50,color='b',alpha=0.6,label='Inside/Low_stress')\n",
    "\n",
    "#plt.hist(thetaLevel1, bins=100,label='>0.01')\n",
    "#plt.hist(thetaLevel2, bins=100,label='=<0.01')\n",
    "plt.xlabel('Angle $[degree]$')\n",
    "plt.ylabel('Probability')\n",
    "plt.legend()\n",
    "plt.savefig('/home/haibin/Desktop/'+'In_stressHist'+str(step)+'.png',dpi=300)\n",
    "\n",
    "n+=1"
   ]
  },
  {
   "cell_type": "code",
   "execution_count": null,
   "metadata": {
    "collapsed": true
   },
   "outputs": [],
   "source": [
    "plt.plot(range(0,360,20),1/peak,'*')"
   ]
  },
  {
   "cell_type": "code",
   "execution_count": null,
   "metadata": {
    "collapsed": true
   },
   "outputs": [],
   "source": [
    "\n",
    "print np.mean(theta.data),np.median(theta.data)\n",
    "fre, edge = np.histogram(theta.data, bins=bin_values,density = True)\n",
    "a = np.where(fre==max(fre))\n",
    "print fre[a[0]]\n",
    "print fre,edge\n",
    "print max(fre)/sum(fre)"
   ]
  },
  {
   "cell_type": "code",
   "execution_count": null,
   "metadata": {
    "collapsed": true
   },
   "outputs": [],
   "source": [
    "item_index = item_index = np.where((mesh.data[:,0]>-0.5) & (mesh.data[:,0]<0.5))\n",
    "print item_index"
   ]
  },
  {
   "cell_type": "code",
   "execution_count": null,
   "metadata": {
    "collapsed": true,
    "scrolled": true
   },
   "outputs": [],
   "source": [
    "dev =np.std(x)\n",
    "mean = np.mean(x)\n",
    "print mean,dev"
   ]
  },
  {
   "cell_type": "code",
   "execution_count": null,
   "metadata": {
    "collapsed": true
   },
   "outputs": [],
   "source": [
    "i = 0\n",
    "nc = 50\n",
    "while i < nc:\n",
    "    step=i*20\n",
    "    curlPlot(step)\n",
    "    i+= 1\n"
   ]
  },
  {
   "cell_type": "code",
   "execution_count": null,
   "metadata": {
    "collapsed": true
   },
   "outputs": [],
   "source": [
    "stressTensorPlot(0)"
   ]
  },
  {
   "cell_type": "code",
   "execution_count": null,
   "metadata": {
    "collapsed": true
   },
   "outputs": [],
   "source": [
    "plasticStrainPlot(0)"
   ]
  },
  {
   "cell_type": "code",
   "execution_count": null,
   "metadata": {
    "collapsed": true
   },
   "outputs": [],
   "source": [
    "fig,ax = plt.subplots()\n",
    "x = np.linspace(0,1,101)\n",
    "y1 = x\n",
    "y2 = x + 1\n",
    "y3 = x + 3\n",
    "plt.plot(x,y1,x,y2,x,y3)\n",
    "plt.axis('off')\n",
    "ax.set_aspect('equal')\n",
    "plt.savefig('/home/haibin/Desktop/'+\"line.png\",dpi=300)\n",
    "plt.show"
   ]
  },
  {
   "cell_type": "code",
   "execution_count": null,
   "metadata": {
    "collapsed": true
   },
   "outputs": [],
   "source": [
    "velocityField    = uw.mesh.MeshVariable( mesh=mesh,         nodeDofCount=mesh.dim )\n",
    "base   = mesh.specialSets[\"MinJ_VertexSet\"]\n",
    "x = np.linspace(-0.5,0.5,101)\n",
    "#y1 = 2*1*((np.cos(((x+0.25)/0.5)*3.1415926))+1)\n",
    "y1 = np.linspace(4,0,101)\n",
    "y2 = 2*1*((-np.arctan((x*1)))+np.arctan(0.5*1))/np.arctan(0.5*1)\n",
    "#print y\n",
    "plt.plot(x,y1,'r',x,y2,'b')\n",
    "#plt.plot(base[:,1],velocityField.evaluate(base)[1])\n",
    "plt.savefig('/home/haibin/Desktop/Boudary Effect/'+\"Function.png\",dpi=300)\n",
    "plt.show()"
   ]
  },
  {
   "cell_type": "code",
   "execution_count": null,
   "metadata": {
    "collapsed": true
   },
   "outputs": [],
   "source": [
    "y = [5.2,7.8,12.5]\n",
    "x = [0.4,0.6,0.8]\n",
    "plt.plot(x,y,'r-o')\n",
    "plt.xlabel(\"Friction coefficient\")\n",
    "plt.ylabel(\"Standard Deviation $[degree]$\")\n",
    "plt.savefig('/home/haibin/Desktop/'+\"FunctionCplx.png\",dpi=300)\n",
    "plt.show()"
   ]
  },
  {
   "cell_type": "code",
   "execution_count": null,
   "metadata": {
    "collapsed": true
   },
   "outputs": [],
   "source": [
    "x_ticks = [\"case1\",\"case2\",\"case3\",\"case4\"]\n",
    "x = np.array([0,1,2,3])\n",
    "plt.xticks(x,x_ticks)\n",
    "case_strainRate14=np.asarray([0.04,0.11, 0.17,0.12])\n",
    "case_strainRate14=(case_strainRate14-min(case_strainRate14))/(max(case_strainRate14)-min(case_strainRate14))\n",
    "case_strainRate15=np.asarray([0.04,0.16, 0.31,0.36])\n",
    "case_strainRate15=(case_strainRate15-min(case_strainRate15))/(max(case_strainRate15)-min(case_strainRate15))\n",
    "case_stress=np.asarray([0.31,14.7,17.2,16.5])\n",
    "case_stress=(case_stress-min(case_stress))/(max(case_stress)-min(case_stress))\n",
    "case_strain=np.asarray([0.51,0.61,0.74,0.71])\n",
    "case_strain=(case_strain-min(case_strain))/(max(case_strain)-min(case_strain))\n",
    "plt.plot(x,case_strainRate14,'-^',markersize=10,label='Strain_Rate 1e-14')\n",
    "plt.plot(x,case_strainRate15,'-s',markersize=10,label='Strain_Rate 1e-15')\n",
    "plt.plot(x,case_strain,'-*',markersize=10,label='Plastic_strain')\n",
    "plt.plot(x,case_stress,'-o',markersize=10,label='Stress_direction')\n",
    "plt.ylabel(\"Normalized complexity\")\n",
    "plt.legend()\n",
    "plt.savefig('/home/haibin/Desktop/CplxTest/'+\"CompareFourStandard.png\",dpi=300)\n",
    "plt.show()\n"
   ]
  }
 ],
 "metadata": {
  "kernelspec": {
   "display_name": "Python 2",
   "language": "python",
   "name": "python2"
  },
  "language_info": {
   "codemirror_mode": {
    "name": "ipython",
    "version": 2
   },
   "file_extension": ".py",
   "mimetype": "text/x-python",
   "name": "python",
   "nbconvert_exporter": "python",
   "pygments_lexer": "ipython2",
   "version": "2.7.12"
  }
 },
 "nbformat": 4,
 "nbformat_minor": 2
}
