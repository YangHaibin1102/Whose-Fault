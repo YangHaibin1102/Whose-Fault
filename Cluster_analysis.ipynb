{
 "cells": [
  {
   "cell_type": "code",
   "execution_count": 2,
   "metadata": {},
   "outputs": [],
   "source": [
    "import numpy as np\n",
    "import matplotlib.pyplot as plt\n",
    "import seaborn as sns\n",
    "import sklearn.cluster as cluster\n",
    "import time\n",
    "import underworld as uw\n",
    "import math\n",
    "from underworld import function as fn\n",
    "import glucifer\n",
    "import numpy as np\n",
    "import os\n",
    "import matplotlib.pyplot as plt\n",
    "import unsupported.scaling as sca\n",
    "from unsupported.scaling import nonDimensionalize as nd\n",
    "from decimal import *\n",
    "from numpy.linalg import eig,solve,lstsq\n",
    "#import hdbscan\n",
    "%matplotlib inline\n",
    "sns.set_context('poster')\n",
    "sns.set_color_codes()\n",
    "plot_kwds = {'alpha' : 0.25, 's' : 80, 'linewidths':0}\n",
    "\n",
    "uw.matplotlib_inline()\n",
    "# use low resolution if running in serial\n",
    "\n",
    "u = sca.UnitRegistry\n",
    "\n",
    "# Define scale criteria\n",
    "tempMin = 273.*u.degK \n",
    "tempMax = (1400.+ 273.)*u.degK\n",
    "bodyforce = 3300 * u.kilogram / u.metre**3 * 9.81 * u.meter / u.second**2\n",
    "velocity = 1.*u.centimeter/u.year\n",
    "velocity = 1e-9*u.meter/u.second\n",
    "\n",
    "KL = 100e3*u.meter\n",
    "Kt = KL/velocity\n",
    "KT = tempMax \n",
    "KM = bodyforce * KL**2 * Kt**2\n",
    "K  = 1.*u.mole\n",
    "lengthScale = 100e3\n",
    "\n",
    "sca.scaling[\"[length]\"] = KL\n",
    "sca.scaling[\"[time]\"] = Kt\n",
    "sca.scaling[\"[mass]\"]= KM\n",
    "sca.scaling[\"[temperature]\"] = KT\n",
    "sca.scaling[\"[substance]\"] = K\n",
    "\n",
    "gravity = nd(9.81 * u.meter / u.second**2)\n",
    "R = nd(8.3144621 * u.joule / u.mole / u.degK)\n",
    "step=0\n",
    "\n",
    "outputPath = os.path.join(os.path.abspath(\".\"),\"landsliding_F4C2e6Vis24Point200B/\")\n",
    "\n",
    "if uw.rank()==0:\n",
    "    if not os.path.exists(outputPath):\n",
    "        os.makedirs(outputPath)\n",
    "uw.barrier()\n",
    "\n",
    "fo = open(outputPath+\"dicMesh\"+str(step).zfill(4),'r')\n",
    "meshDic=eval(fo.read())\n",
    "\n",
    "'''\n",
    "mesh = uw.mesh.FeMesh_Cartesian( elementType = (\"Q1/dQ0\"),\n",
    "                                 elementRes  = meshDic['elements'], \n",
    "                                 minCoord    = meshDic['minCoord'], \n",
    "                                 maxCoord    = meshDic['maxCoord'],\n",
    "                                 ) \n",
    "'''\n",
    "xRes=meshDic['elements'][0]\n",
    "yRes=meshDic['elements'][1]\n",
    "dim  = 2  \n",
    "mesh = uw.mesh.FeMesh_Cartesian( elementType = ((\"Q1/dQ0\")), \n",
    "                                 elementRes  = ( xRes, yRes), \n",
    "                                 ) \n",
    "mesh.load(outputPath+\"mesh\"+str(step).zfill(4))\n",
    "\n",
    "minX = min(mesh.data[:,0])\n",
    "maxX = max(mesh.data[:,0])\n",
    "minY = min(mesh.data[:,1])\n",
    "maxY = max(mesh.data[:,1])\n",
    "\n",
    "mesh = uw.mesh.FeMesh_Cartesian( elementType = (\"Q1/dQ0\"),\n",
    "                                 elementRes  = (xRes, yRes), \n",
    "                                 minCoord    = (minX, minY), \n",
    "                                 maxCoord    = (maxX, maxY),\n",
    "                                 periodic    = [False, False]) "
   ]
  },
  {
   "cell_type": "code",
   "execution_count": 3,
   "metadata": {
    "collapsed": true
   },
   "outputs": [],
   "source": [
    "vis_factor = nd(1*u.pascal*u.second)\n",
    "vel_factor = nd(1*u.centimeter/u.year)\n",
    "stress_factor = nd(1*u.pascal)\n",
    "strainRate_factor = nd(1/u.second)\n",
    "temp_factor = nd(1*u.degK)"
   ]
  },
  {
   "cell_type": "code",
   "execution_count": 4,
   "metadata": {},
   "outputs": [
    {
     "data": {
      "text/plain": [
       "'\\nmeshPlasticStrain= uw.mesh.MeshVariable( mesh, 1 )\\nprojectorPlasticStrain = uw.utils.MeshVariable_Projection( meshPlasticStrain,plasticStrainCopy, type=1)\\nprojectorPlasticStrain.solve()\\n'"
      ]
     },
     "execution_count": 4,
     "metadata": {},
     "output_type": "execute_result"
    }
   ],
   "source": [
    "step = 50\n",
    "vis= uw.mesh.MeshVariable(mesh=mesh,nodeDofCount=1)\n",
    "vis.load(outputPath+'meshViscosity'+str(step).zfill(4))\n",
    "#devStressFn = 2.0 * vis*strainRate_2ndInvariant\n",
    "\n",
    "velField = uw.mesh.MeshVariable(mesh=mesh,nodeDofCount=2)\n",
    "velField.load(outputPath+'velocityField'+str(step).zfill(4))\n",
    "\n",
    "strainRateFn = fn.tensor.symmetric( velField.fn_gradient )\n",
    "strainRate_2ndInvariant = fn.tensor.second_invariant(strainRateFn)\n",
    "\n",
    "curl = fn.tensor.antisymmetric(velField.fn_gradient )\n",
    "rotation = curl[1].evaluate(mesh)\n",
    "#stress = devStressFn.evaluate(mesh)\n",
    "\n",
    "swarmCopy = uw.swarm.Swarm( mesh=mesh )\n",
    "swarmCopy.load(outputPath+'swarm'+str(step).zfill(4))\n",
    "plasticStrainCopy = swarmCopy.add_variable(\"double\",1)\n",
    "plasticStrainCopy.load(outputPath+\"plasticStrain\"+str(step).zfill(4))\n",
    "strainRate = strainRate_2ndInvariant.evaluate(swarmCopy)\n",
    "vis1 = vis.evaluate(mesh)\n",
    "'''\n",
    "meshPlasticStrain= uw.mesh.MeshVariable( mesh, 1 )\n",
    "projectorPlasticStrain = uw.utils.MeshVariable_Projection( meshPlasticStrain,plasticStrainCopy, type=1)\n",
    "projectorPlasticStrain.solve()\n",
    "'''\n",
    "#strainRate = strainRate_2ndInvariant.evaluate(mesh)"
   ]
  },
  {
   "cell_type": "markdown",
   "metadata": {},
   "source": [
    "\n",
    "velField = uw.mesh.MeshVariable(mesh=mesh,nodeDofCount=2)\n",
    "vis= uw.mesh.MeshVariable(mesh=mesh,nodeDofCount=1)\n",
    "\n",
    "velField.load(outputPath+'velocityField'+str(step).zfill(4))\n",
    "vis.load(outputPath+'meshViscosity'+str(step).zfill(4))\n",
    "\n",
    "stressTensor  = uw.mesh.MeshVariable( mesh=mesh,  nodeDofCount=6 )\n",
    "strainRateFn = fn.tensor.symmetric(velField.fn_gradient )\n",
    "devStressFn = 2.0 * strainRateFn\n",
    "stress  = uw.mesh.MeshVariable( mesh=mesh,         nodeDofCount=3*3 )\n",
    "stressEig  = uw.mesh.MeshVariable( mesh=mesh,         nodeDofCount=3 )\n",
    "stressAngle  = uw.mesh.MeshVariable( mesh=mesh,         nodeDofCount=3 )\n",
    "angleLeft = uw.mesh.MeshVariable( mesh=mesh,         nodeDofCount=4 )\n",
    "angleRight = uw.mesh.MeshVariable( mesh=mesh,         nodeDofCount=2 )\n",
    "ratioAngle = uw.mesh.MeshVariable( mesh=mesh,         nodeDofCount=2 )\n",
    "theta = uw.mesh.MeshVariable( mesh=mesh,         nodeDofCount=1 )\n",
    "cosX = uw.mesh.MeshVariable( mesh=mesh,         nodeDofCount=1 )\n",
    "cosY = uw.mesh.MeshVariable( mesh=mesh,         nodeDofCount=1 )\n",
    "cosZ = uw.mesh.MeshVariable( mesh=mesh,         nodeDofCount=1 )\n",
    "\n",
    "# In[3]:\n",
    "\n",
    "stress.data[:,0]=devStressFn[0].evaluate(mesh)[:,0]\n",
    "stress.data[:,4]=devStressFn[1].evaluate(mesh)[:,0]\n",
    "stress.data[:,8]=0.\n",
    "stress.data[:,1]=devStressFn[2].evaluate(mesh)[:,0]\n",
    "stress.data[:,3]=devStressFn[2].evaluate(mesh)[:,0]\n",
    "stress.data[:,5]=0.\n",
    "stress.data[:,7]=0.\n",
    "stress.data[:,2]=0.\n",
    "stress.data[:,6]=0.\n",
    "\n",
    "# In[4]:\n",
    "\n",
    "for index, item in enumerate(stress.data): \n",
    "    stressEig.data[index,:]= eig(np.reshape(stress.data[index,:],[3,3]))[0]    \n",
    "\n",
    "# In[5]:\n",
    "\n",
    "stressEig.data[:].sort()\n",
    "\n",
    "## 0-min principle stress(compression);2-max principle stress(extension)\n",
    "sigma=stressEig.data[:,0]\n",
    "angleLeft.data[:,0]=stress.data[:,3]\n",
    "angleLeft.data[:,1]=stress.data[:,6]\n",
    "angleLeft.data[:,2]=stress.data[:,4]-sigma\n",
    "angleLeft.data[:,3]=stress.data[:,7]\n",
    "angleRight.data[:,0]=sigma-stress.data[:,0]\n",
    "angleRight.data[:,1]=-stress.data[:,1]\n",
    "#stressEig.data\n",
    "\n",
    "\n",
    "for index, item in enumerate(angleLeft.data): \n",
    "    ratioAngle.data[index,:]=lstsq(np.reshape(angleLeft.data[index],[2,2]),angleRight.data[index])[0]\n",
    "\n",
    "for index, item in enumerate(ratioAngle.data):\n",
    "    cosX.data[index]=1./math.pow(1.+ratioAngle.data[index,1]*ratioAngle.data[index,1]+                                   ratioAngle.data[index,0]*ratioAngle.data[index,0],0.5)\n",
    "    cosY.data[index]=cosX.data[index]*ratioAngle.data[index,0]\n",
    "    cosZ.data[index]=cosX.data[index]*ratioAngle.data[index,1]   \n",
    "\n",
    "sigma1 = 1\n",
    "stressMax_Vector = uw.mesh.MeshVariable( mesh, 2 )\n",
    "stressMax_Vector.data[:,0]=sigma1*cosX.evaluate(mesh)[:,0]\n",
    "stressMax_Vector.data[:,1]=sigma1*cosY.evaluate(mesh)[:,0]\n",
    "theta.data[:,0] = np.degrees(np.arctan(stressMax_Vector.data[:,1]/stressMax_Vector.data[:,0]))\n",
    "\n"
   ]
  },
  {
   "cell_type": "code",
   "execution_count": null,
   "metadata": {
    "collapsed": true
   },
   "outputs": [],
   "source": [
    "X = np.zeros(((plasticStrainCopy.data.size),2))\n",
    "X[:,1] = plasticStrainCopy.data[:,0]*5000\n",
    "X[:,0] = np.log10(strainRate[:,0]/strainRate_factor)\n"
   ]
  },
  {
   "cell_type": "code",
   "execution_count": null,
   "metadata": {
    "collapsed": true
   },
   "outputs": [],
   "source": [
    "X = np.zeros(((vis.data.size),2))\n",
    "X[:,1] = np.log10(vis.data[:,0]/vis_factor)/10\n",
    "X[:,0] = np.log10(rotation[:,0]/strainRate_factor+1e-15)*10"
   ]
  },
  {
   "cell_type": "code",
   "execution_count": null,
   "metadata": {
    "collapsed": true
   },
   "outputs": [],
   "source": [
    "import sklearn.cluster as cluster\n",
    "kmeans = cluster.KMeans(n_clusters=4)\n",
    "y_kmeans = kmeans.fit_predict(X)\n",
    "\n",
    "plt.subplots(figsize=(10,5))\n",
    "\n",
    "\n",
    "plt.scatter(X[:, 0], X[:, 1], c=y_kmeans, s=10, cmap='viridis')\n",
    "\n",
    "centers = kmeans.cluster_centers_\n",
    "plt.scatter(centers[:, 0], centers[:, 1], c='black', s=10, alpha=0.5);\n"
   ]
  },
  {
   "cell_type": "code",
   "execution_count": null,
   "metadata": {
    "collapsed": true
   },
   "outputs": [],
   "source": [
    "plt.subplots(figsize=(10,5))\n",
    "xcoord = swarmCopy.particleCoordinates.data[:,0]\n",
    "ycoord = swarmCopy.particleCoordinates.data[:,1]\n",
    "plt.scatter(xcoord,ycoord,c=y_kmeans, s=10, cmap='viridis')"
   ]
  },
  {
   "cell_type": "code",
   "execution_count": null,
   "metadata": {
    "collapsed": true
   },
   "outputs": [],
   "source": [
    "xcoord = mesh.data[:,0]\n",
    "ycoord = mesh.data[:,1]\n",
    "plt.scatter(xcoord,ycoord,c=y_kmeans, s=10, cmap='viridis')\n"
   ]
  },
  {
   "cell_type": "code",
   "execution_count": null,
   "metadata": {
    "collapsed": true
   },
   "outputs": [],
   "source": [
    "import sklearn.cluster as cluster\n",
    "dbscan = cluster.DBSCAN(eps=0.5)\n",
    "dbscan.fit(X)\n",
    "y_dbscan = dbscan.fit_predict(X)\n",
    "\n",
    "plt.scatter(X[:, 0], X[:, 1], c=y_dbscan, s=10, cmap='viridis')\n"
   ]
  },
  {
   "cell_type": "code",
   "execution_count": null,
   "metadata": {
    "collapsed": true
   },
   "outputs": [],
   "source": [
    "def plot_clusters(data, algorithm, args, kwds):\n",
    "    start_time = time.time()\n",
    "    labels = algorithm(*args, **kwds).fit_predict(data)\n",
    "    end_time = time.time()\n",
    "    palette = sns.color_palette('deep', np.unique(labels).max() + 1)\n",
    "    colors = [palette[x] if x >= 0 else (0.0, 0.0, 0.0) for x in labels]\n",
    "    plt.scatter(data.T[0], data.T[1], c=colors, **plot_kwds)\n",
    "    frame = plt.gca()\n",
    "    plt.title('Clusters found by {}'.format(str(algorithm.__name__)), fontsize=24)\n",
    "    #plt.text('Clustering took {:.2f} s'.format(end_time - start_time), fontsize=14)\n",
    "    return labels"
   ]
  },
  {
   "cell_type": "code",
   "execution_count": null,
   "metadata": {
    "collapsed": true
   },
   "outputs": [],
   "source": [
    "labels=plot_clusters(X, cluster.MeanShift, (0.175,), {'cluster_all':False})\n"
   ]
  },
  {
   "cell_type": "code",
   "execution_count": null,
   "metadata": {
    "collapsed": true
   },
   "outputs": [],
   "source": [
    "step = 110   \n",
    "swarmCopy1 = uw.swarm.Swarm( mesh=mesh )\n",
    "swarmCopy1.load(outputPath+\"swarm\"+str(step).zfill(4))\n",
    "plasticStrainCopy1 = swarmCopy1.add_variable(\"double\",1)\n",
    "plasticStrainCopy1.load(outputPath+\"plasticStrain\"+str(step).zfill(4))\n",
    "materialVariable1 = swarmCopy1.add_variable(\"double\",1)\n",
    "materialVariable1.load(outputPath+\"materialVariable\"+str(step).zfill(4))\n",
    "index1=np.where(materialVariable1.data==0)\n",
    "Mat0 = uw.swarm.Swarm ( mesh=mesh )\n",
    "Mat0.add_particles_with_coordinates(swarmCopy1.particleCoordinates.data[index1[0]])\n",
    "plasticStrain1  = Mat0.add_variable( dataType=\"double\",  count=1 )"
   ]
  },
  {
   "cell_type": "code",
   "execution_count": null,
   "metadata": {
    "collapsed": true
   },
   "outputs": [],
   "source": [
    "step = 120   \n",
    "swarmCopy2 = uw.swarm.Swarm( mesh=mesh )\n",
    "swarmCopy2.load(outputPath+\"swarm\"+str(step).zfill(4))\n",
    "plasticStrainCopy2 = swarmCopy2.add_variable(\"double\",1)\n",
    "plasticStrainCopy2.load(outputPath+\"plasticStrain\"+str(step).zfill(4))\n",
    "materialVariable2 = swarmCopy2.add_variable(\"double\",1)\n",
    "materialVariable2.load(outputPath+\"materialVariable\"+str(step).zfill(4))\n",
    "\n",
    "\n",
    "index2=np.where(materialVariable1.data==0)\n",
    "Mat02 = uw.swarm.Swarm ( mesh=mesh )\n",
    "Mat02.add_particles_with_coordinates(swarmCopy2.particleCoordinates.data[index2[0]])\n",
    "plasticStrain2  = Mat02.add_variable( dataType=\"double\",  count=1 )\n",
    "\n",
    "\n",
    "\n",
    "\n"
   ]
  },
  {
   "cell_type": "code",
   "execution_count": null,
   "metadata": {
    "collapsed": true
   },
   "outputs": [],
   "source": [
    "for index, coord in enumerate(Mat0.particleCoordinates.data):\n",
    "    plasticStrain1.data[index] = plasticStrainCopy1.data[index1[0][index]]\n",
    "for index, coord in enumerate(Mat0.particleCoordinates.data):\n",
    "    plasticStrain2.data[index] = plasticStrainCopy2.data[index1[0][index]]"
   ]
  },
  {
   "cell_type": "code",
   "execution_count": null,
   "metadata": {
    "collapsed": true
   },
   "outputs": [],
   "source": [
    "plasticStrain_diff = plasticStrain2 - plasticStrain1"
   ]
  },
  {
   "cell_type": "code",
   "execution_count": null,
   "metadata": {
    "collapsed": true
   },
   "outputs": [],
   "source": [
    "plasticStrain_diff.evaluate((0.1, 0.1))"
   ]
  },
  {
   "cell_type": "code",
   "execution_count": null,
   "metadata": {
    "collapsed": true
   },
   "outputs": [],
   "source": [
    "fig = glucifer.Figure( title=\"time=\"+str(time)+\"Myr\",figsize=(800,500),quality=3,\n",
    "                                    margin = 100, rulers = True, rulerticks= 5 )\n",
    "    \n",
    "\n",
    "surf1 = glucifer.objects.Points( Mat0, plasticStrain_diff,pointSize=5,colours=\"blue white red\" )\n",
    "fig.append(surf1)\n",
    "fig.show()"
   ]
  }
 ],
 "metadata": {
  "kernelspec": {
   "display_name": "Python 2",
   "language": "python",
   "name": "python2"
  },
  "language_info": {
   "codemirror_mode": {
    "name": "ipython",
    "version": 2
   },
   "file_extension": ".py",
   "mimetype": "text/x-python",
   "name": "python",
   "nbconvert_exporter": "python",
   "pygments_lexer": "ipython2",
   "version": "2.7.12"
  }
 },
 "nbformat": 4,
 "nbformat_minor": 2
}
